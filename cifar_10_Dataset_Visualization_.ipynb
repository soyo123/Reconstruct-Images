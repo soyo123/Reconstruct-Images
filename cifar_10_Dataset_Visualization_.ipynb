{
  "nbformat": 4,
  "nbformat_minor": 0,
  "metadata": {
    "colab": {
      "provenance": []
    },
    "kernelspec": {
      "name": "python3",
      "display_name": "Python 3"
    },
    "language_info": {
      "name": "python"
    }
  },
  "cells": [
    {
      "cell_type": "markdown",
      "source": [
        "cifar-10 visualization and image output（cifar-10的可视化和图片输出）"
      ],
      "metadata": {
        "id": "U3gl_stBvfmg"
      }
    },
    {
      "cell_type": "code",
      "source": [
        "import numpy as np\n",
        "import cv2\n",
        "\n",
        "def unpickle(file):#Open any batch of cifar-10 files (5 batches total)\n",
        "    import pickle\n",
        "    with open(\"/content/drive/MyDrive/cifar-10-batches-py/\"+file, 'rb') as fo:\n",
        "        dict = pickle.load(fo, encoding='bytes')\n",
        "    return dict\n",
        "\n",
        "data_batch=unpickle(\"data_batch_1\")#Open cifar-10 file data_batch_1\n",
        "cifar_data=data_batch[b'data']#Here, each dictionary key is prefixed with b.\n",
        "cifar_label=data_batch[b'labels']\n",
        "cifar_data=np.array(cifar_data)#Convert dictionary values into array format for easy manipulation.\n",
        "print(cifar_data.shape)#(10000,3072)\n",
        "cifar_label=np.array(cifar_label)\n",
        "print(cifar_label.shape)#(10000,)\n",
        "\n",
        "label_name=['airplane','automobile','brid','cat','deer','dog','frog','horse','ship','truck']\n",
        "\n",
        "def imwrite_images(k):#The value of k can be selected from the range of 1 to 1000.\n",
        "    for i in range(k):\n",
        "        image=cifar_data[i]\n",
        "        image=image.reshape(-1,1024)\n",
        "        r=image[0,:].reshape(32,32)#Red part\n",
        "        g=image[1,:].reshape(32,32)#Green part\n",
        "        b=image[2,:].reshape(32,32)#Blue part\n",
        "        img=np.zeros((32,32,3))\n",
        "        #RGB reduction to color image\n",
        "        img[:,:,0]=r\n",
        "        img[:,:,1]=g\n",
        "        img[:,:,2]=b\n",
        "        cv2.imwrite(\"/content/drive/MyDrive/SampleImage/\"+ \"NO.\"+str(i)+\"class\"+str(cifar_label[i])+str(label_name[cifar_label[i]])+\".jpg\",img)\n",
        "    print(\"%dimage was saved.\"%k)\n",
        "\n",
        "imwrite_images(100)\n"
      ],
      "metadata": {
        "id": "Qw5UdxaKuwbk"
      },
      "execution_count": null,
      "outputs": []
    }
  ]
}